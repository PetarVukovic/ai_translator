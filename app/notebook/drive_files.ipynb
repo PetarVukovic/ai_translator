{
 "cells": [
  {
   "cell_type": "code",
   "execution_count": null,
   "id": "ac2d6921",
   "metadata": {},
   "outputs": [
    {
     "data": {
      "text/plain": [
       "<module 'get_creds' from '/Users/petarvukovic/Desktop/Misija/AI_Translator/app/get_creds.py'>"
      ]
     },
     "execution_count": 57,
     "metadata": {},
     "output_type": "execute_result"
    }
   ],
   "source": [
    "import sys\n",
    "import os\n",
    "import importlib\n",
    "import get_creds\n",
    "# Dodaj root projekta u sys.path\n",
    "project_root = os.path.abspath(\"..\")  # jer si u /notebook/\n",
    "if project_root not in sys.path:\n",
    "    sys.path.append(project_root)\n",
    "importlib.reload(get_creds)"
   ]
  },
  {
   "cell_type": "code",
   "execution_count": 58,
   "id": "4e6560de",
   "metadata": {},
   "outputs": [
    {
     "name": "stdout",
     "output_type": "stream",
     "text": [
      "✅ Našao sam fajl: ../secrets/credentials.json\n"
     ]
    },
    {
     "data": {
      "text/plain": [
       "'../secrets/credentials.json'"
      ]
     },
     "execution_count": 58,
     "metadata": {},
     "output_type": "execute_result"
    }
   ],
   "source": [
    "from get_creds import find_file_in_workspace\n",
    "\n",
    "find_file_in_workspace(\"credentials.json\", workspace_path=\"..\")"
   ]
  },
  {
   "cell_type": "code",
   "execution_count": 60,
   "id": "9cc4e374",
   "metadata": {},
   "outputs": [
    {
     "name": "stdout",
     "output_type": "stream",
     "text": [
      "✅ Našao sam fajl: ../secrets/token.json\n",
      "✅ Našao sam fajl: ../secrets/credentials.json\n",
      "In-Memory Store: Vector Search Examples (1Sr30jioHwwju8dm08zK3vH9NrYiMleNB)\n",
      "2. Isus kroz duha a Sotona kroz tijelo žele POSJEDOVATI dušu i OBLIKOVATI je u svoju sliku!.MP3 (1ixoad33So3nyD8uN-gEA1BvatHT5vgpx)\n",
      "Poruka 2.mp3 (1GYO6bF2653GosRLqlDWIkHyY3qjn2A8P)\n",
      "Prijevodi (1JiP2Ec1IbDzcArWGhSJ3JhFCY83AA1AJ)\n",
      "LangChain's Runnable Interface Explained (1Bm4kIRv5NJyCvfeWDzGKTSxzckDMA6fA)\n"
     ]
    }
   ],
   "source": [
    "from get_creds import getCredentials\n",
    "from googleapiclient.discovery import build\n",
    "\n",
    "creds = getCredentials(workspace_path=\"../secrets\")\n",
    "service = build(\"drive\", \"v3\", credentials=creds)\n",
    "\n",
    "results = service.files().list(pageSize=5).execute()\n",
    "for file in results.get(\"files\", []):\n",
    "    print(f\"{file['name']} ({file['id']})\")"
   ]
  },
  {
   "cell_type": "code",
   "execution_count": null,
   "id": "f3fa70d4",
   "metadata": {},
   "outputs": [],
   "source": []
  }
 ],
 "metadata": {
  "kernelspec": {
   "display_name": "env",
   "language": "python",
   "name": "python3"
  },
  "language_info": {
   "codemirror_mode": {
    "name": "ipython",
    "version": 3
   },
   "file_extension": ".py",
   "mimetype": "text/x-python",
   "name": "python",
   "nbconvert_exporter": "python",
   "pygments_lexer": "ipython3",
   "version": "3.13.2"
  }
 },
 "nbformat": 4,
 "nbformat_minor": 5
}
