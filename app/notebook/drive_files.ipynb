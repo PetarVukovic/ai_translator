{
 "cells": [
  {
   "cell_type": "code",
   "execution_count": 13,
   "id": "ac2d6921",
   "metadata": {},
   "outputs": [],
   "source": [
    "import sys\n",
    "import os\n",
    "# Dodaj root projekta u sys.path\n",
    "project_root = os.path.abspath(\"..\")  # jer si u /notebook/\n",
    "if project_root not in sys.path:\n",
    "    sys.path.append(project_root)\n"
   ]
  },
  {
   "cell_type": "code",
   "execution_count": 14,
   "id": "4e6560de",
   "metadata": {},
   "outputs": [
    {
     "name": "stdout",
     "output_type": "stream",
     "text": [
      "✅ Našao sam fajl: ../secrets/credentials.json\n"
     ]
    },
    {
     "data": {
      "text/plain": [
       "'../secrets/credentials.json'"
      ]
     },
     "execution_count": 14,
     "metadata": {},
     "output_type": "execute_result"
    }
   ],
   "source": [
    "from get_creds import find_file_in_workspace\n",
    "\n",
    "find_file_in_workspace(\"credentials.json\", workspace_path=\"..\")"
   ]
  },
  {
   "cell_type": "code",
   "execution_count": 15,
   "id": "9cc4e374",
   "metadata": {},
   "outputs": [
    {
     "name": "stdout",
     "output_type": "stream",
     "text": [
      "✅ Našao sam fajl: ../secrets/token.json\n",
      "✅ Našao sam fajl: ../secrets/credentials.json\n",
      "IME FILE->PRIJEVODI ID FILA->(1bkhTOjLFTKug-gnAKmK7HlpA_SX79d-a)\n",
      "IME FILE->PRIJEVODI ID FILA->(1sGCgT9j35g4q1YrigQQ5s3vh7skEY_i5)\n",
      "IME FILE->PRIJEVODI ID FILA->(1bcvGuUdFLacBxhcRkYcalvjgH9gzud9C)\n",
      "IME FILE->PRIJEVODI ID FILA->(1XLUTVYA5CgvwaA3nybX_rQmQyXUjPNLX)\n",
      "IME FILE->PRIJEVODI ID FILA->(126wLCanergDH8vTyHP3e3KAjwaxuoCfP)\n"
     ]
    }
   ],
   "source": [
    "from get_creds import getCredentials\n",
    "from googleapiclient.discovery import build\n",
    "\n",
    "creds = getCredentials(workspace_path=\"../secrets\")\n",
    "service = build(\"drive\", \"v3\", credentials=creds)\n",
    "\n",
    "\n",
    "results = service.files().list(pageSize=5).execute()\n",
    "for file in results.get(\"files\", []):\n",
    "    print(f\"IME FILE->{file['name']} ID FILA->({file['id']})\")"
   ]
  },
  {
   "cell_type": "markdown",
   "id": "c96f8db8",
   "metadata": {},
   "source": [
    "## Kreiranje novog foldera"
   ]
  },
  {
   "cell_type": "code",
   "execution_count": 16,
   "id": "f3fa70d4",
   "metadata": {},
   "outputs": [
    {
     "name": "stdout",
     "output_type": "stream",
     "text": [
      "folder id:{'id': '19QsSkM4dbUE0_Pr9j2SYhYvY4iXtwjct'}\n"
     ]
    },
    {
     "data": {
      "text/plain": [
       "{'id': '19QsSkM4dbUE0_Pr9j2SYhYvY4iXtwjct'}"
      ]
     },
     "execution_count": 16,
     "metadata": {},
     "output_type": "execute_result"
    }
   ],
   "source": [
    "from googleapiclient.errors import HttpError\n",
    "def create_folder():\n",
    "    try:\n",
    "        PRIJEVODI={\n",
    "            \"name\":\"PRIJEVODI\",\n",
    "            \"type\":\"application/vnd.google-apps.folder\"\n",
    "        }\n",
    "        file=service.files().create(body=PRIJEVODI,fields=\"id\").execute()\n",
    "        print(f\"folder id:{file}\")\n",
    "        return file\n",
    "    except HttpError as error:\n",
    "        print(f\"An error occurred: {error}\")\n",
    "        return None\n",
    "create_folder()"
   ]
  },
  {
   "cell_type": "markdown",
   "id": "21ca84b9",
   "metadata": {},
   "source": [
    "## DOWNLOAD FILA IZ FODLERA"
   ]
  },
  {
   "cell_type": "code",
   "execution_count": 17,
   "id": "ca9b0bad",
   "metadata": {},
   "outputs": [
    {
     "ename": "HttpError",
     "evalue": "<HttpError 404 when requesting https://www.googleapis.com/drive/v3/files?q=%27%7BFOLDER_ID%7D%27+in+parents+and+name+contains+%27.srt%27+and+not+name+contains+%27_eng%27&alt=json returned \"File not found: .\". Details: \"[{'message': 'File not found: .', 'domain': 'global', 'reason': 'notFound', 'location': 'fileId', 'locationType': 'parameter'}]\">",
     "output_type": "error",
     "traceback": [
      "\u001b[31m---------------------------------------------------------------------------\u001b[39m",
      "\u001b[31mHttpError\u001b[39m                                 Traceback (most recent call last)",
      "\u001b[36mCell\u001b[39m\u001b[36m \u001b[39m\u001b[32mIn[17]\u001b[39m\u001b[32m, line 3\u001b[39m\n\u001b[32m      1\u001b[39m FOLDER_ID=\u001b[33m\"\u001b[39m\u001b[33m17Kk7PTqpF6oByALM_nV65SR2T_1QZ_OT\u001b[39m\u001b[33m\"\u001b[39m\n\u001b[32m      2\u001b[39m query = \u001b[33m\"\u001b[39m\u001b[33m'\u001b[39m\u001b[38;5;132;01m{FOLDER_ID}\u001b[39;00m\u001b[33m'\u001b[39m\u001b[33m in parents and name contains \u001b[39m\u001b[33m'\u001b[39m\u001b[33m.srt\u001b[39m\u001b[33m'\u001b[39m\u001b[33m and not name contains \u001b[39m\u001b[33m'\u001b[39m\u001b[33m_eng\u001b[39m\u001b[33m'\u001b[39m\u001b[33m\"\u001b[39m\n\u001b[32m----> \u001b[39m\u001b[32m3\u001b[39m results = \u001b[43mservice\u001b[49m\u001b[43m.\u001b[49m\u001b[43mfiles\u001b[49m\u001b[43m(\u001b[49m\u001b[43m)\u001b[49m\u001b[43m.\u001b[49m\u001b[43mlist\u001b[49m\u001b[43m(\u001b[49m\u001b[43mq\u001b[49m\u001b[43m=\u001b[49m\u001b[43mquery\u001b[49m\u001b[43m)\u001b[49m\u001b[43m.\u001b[49m\u001b[43mexecute\u001b[49m\u001b[43m(\u001b[49m\u001b[43m)\u001b[49m\n\u001b[32m      4\u001b[39m files = results.get(\u001b[33m\"\u001b[39m\u001b[33mfiles\u001b[39m\u001b[33m\"\u001b[39m, [])\n\u001b[32m      6\u001b[39m \u001b[38;5;66;03m# 5. Prikaz\u001b[39;00m\n",
      "\u001b[36mFile \u001b[39m\u001b[32m~/Desktop/Misija/AI_Translator/env/lib/python3.13/site-packages/googleapiclient/_helpers.py:130\u001b[39m, in \u001b[36mpositional.<locals>.positional_decorator.<locals>.positional_wrapper\u001b[39m\u001b[34m(*args, **kwargs)\u001b[39m\n\u001b[32m    128\u001b[39m     \u001b[38;5;28;01melif\u001b[39;00m positional_parameters_enforcement == POSITIONAL_WARNING:\n\u001b[32m    129\u001b[39m         logger.warning(message)\n\u001b[32m--> \u001b[39m\u001b[32m130\u001b[39m \u001b[38;5;28;01mreturn\u001b[39;00m \u001b[43mwrapped\u001b[49m\u001b[43m(\u001b[49m\u001b[43m*\u001b[49m\u001b[43margs\u001b[49m\u001b[43m,\u001b[49m\u001b[43m \u001b[49m\u001b[43m*\u001b[49m\u001b[43m*\u001b[49m\u001b[43mkwargs\u001b[49m\u001b[43m)\u001b[49m\n",
      "\u001b[36mFile \u001b[39m\u001b[32m~/Desktop/Misija/AI_Translator/env/lib/python3.13/site-packages/googleapiclient/http.py:938\u001b[39m, in \u001b[36mHttpRequest.execute\u001b[39m\u001b[34m(self, http, num_retries)\u001b[39m\n\u001b[32m    936\u001b[39m     callback(resp)\n\u001b[32m    937\u001b[39m \u001b[38;5;28;01mif\u001b[39;00m resp.status >= \u001b[32m300\u001b[39m:\n\u001b[32m--> \u001b[39m\u001b[32m938\u001b[39m     \u001b[38;5;28;01mraise\u001b[39;00m HttpError(resp, content, uri=\u001b[38;5;28mself\u001b[39m.uri)\n\u001b[32m    939\u001b[39m \u001b[38;5;28;01mreturn\u001b[39;00m \u001b[38;5;28mself\u001b[39m.postproc(resp, content)\n",
      "\u001b[31mHttpError\u001b[39m: <HttpError 404 when requesting https://www.googleapis.com/drive/v3/files?q=%27%7BFOLDER_ID%7D%27+in+parents+and+name+contains+%27.srt%27+and+not+name+contains+%27_eng%27&alt=json returned \"File not found: .\". Details: \"[{'message': 'File not found: .', 'domain': 'global', 'reason': 'notFound', 'location': 'fileId', 'locationType': 'parameter'}]\">"
     ]
    }
   ],
   "source": [
    "FOLDER_ID=\"17Kk7PTqpF6oByALM_nV65SR2T_1QZ_OT\"\n",
    "query = \"'{FOLDER_ID}' in parents and name contains '.srt' and not name contains '_eng'\"\n",
    "results = service.files().list(q=query).execute()\n",
    "files = results.get(\"files\", [])\n",
    "\n",
    "# 5. Prikaz\n",
    "if not files:\n",
    "    print(\"📂 Nema fajlova u folderu.\")\n",
    "else:\n",
    "    print(\"📄 Fajlovi u folderu:\")\n",
    "    for file in files:\n",
    "        print(f\"• {file['name']} ({file['id']}) [{file['mimeType']}]\")"
   ]
  },
  {
   "cell_type": "code",
   "execution_count": null,
   "id": "3cc87dc8",
   "metadata": {},
   "outputs": [],
   "source": []
  }
 ],
 "metadata": {
  "kernelspec": {
   "display_name": "env",
   "language": "python",
   "name": "python3"
  },
  "language_info": {
   "codemirror_mode": {
    "name": "ipython",
    "version": 3
   },
   "file_extension": ".py",
   "mimetype": "text/x-python",
   "name": "python",
   "nbconvert_exporter": "python",
   "pygments_lexer": "ipython3",
   "version": "3.13.2"
  }
 },
 "nbformat": 4,
 "nbformat_minor": 5
}
