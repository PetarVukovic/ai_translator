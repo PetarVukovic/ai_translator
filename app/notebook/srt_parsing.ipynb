{
 "cells": [
  {
   "cell_type": "code",
   "execution_count": 1,
   "id": "2b7266f1",
   "metadata": {},
   "outputs": [],
   "source": [
    "\n",
    "\n",
    "from langchain_google_genai import ChatGoogleGenerativeAI\n",
    "from langchain_core.messages import SystemMessage,HumanMessage\n",
    "import os\n",
    "\n",
    "\n",
    "srt_dir = \"../srt_files\"\n",
    "srt_array = [os.path.join(srt_dir, f) for f in os.listdir(srt_dir) if f.endswith(\".srt\")]\n",
    "\n",
    "\n",
    "def return_srt_as_list_of_strings(srt_file:str)->list[str]:\n",
    "    \n",
    "    with open(srt_file, \"r\", encoding=\"utf-8\") as f:\n",
    "            srt_text = f.read()\n",
    "            srt_list_file=srt_text.strip().split(\"\\n\\n\") #Returns list \n",
    "    return srt_list_file\n",
    "            \n",
    "        \n",
    "languages = [\n",
    "    \"English\",\n",
    "    \"Mandarin Chinese\",\n",
    "    \"Spanish\",\n",
    "    # \"Hindi\",\n",
    "    # \"Arabic\",\n",
    "    # \"French\",\n",
    "    # \"Bengali\",\n",
    "    # \"Russian\",\n",
    "    # \"Portuguese\",\n",
    "    # \"Urdu\",\n",
    "    # \"German\",\n",
    "    # \"Japanese\",\n",
    "    # \"Swahili\",\n",
    "    # \"Turkish\",\n",
    "    # \"Korean\"\n",
    "]\n",
    "async def translate(chunkcs:str,language:str=\"English\")-> str:\n",
    "    llm=ChatGoogleGenerativeAI(model=\"gemini-2.0-flash\",temperature=0.0)\n",
    "    sys=SystemMessage(\"You are my translator of christianity srt files.You only returning transalted srt file with \\n indicating new line.,dont include anythine lse only pure timestrempts with transaltion return\")\n",
    "    human=HumanMessage(content=f\"Please transalte this in {language} here is srt file chunck: {chunkcs} \")\n",
    "    results=await llm.ainvoke([sys,human])\n",
    "    return results.content\n",
    "\n",
    "\n",
    "def create_file(srt_path: str, srt_file: str, language: str):\n",
    "    base = os.path.splitext(os.path.basename(srt_path))[0]\n",
    "    filename = f\"{base}_{language.replace(' ', '_')}.srt\"\n",
    "    output_path = os.path.join(\"../srt_files_translated\", filename)\n",
    "    with open(output_path, \"w\", encoding=\"utf-8\") as f:\n",
    "        f.write(srt_file)\n",
    "    \n",
    "    \n",
    "\n",
    "async def transalte_chuncks():\n",
    "    num_chunks = 10\n",
    "    \n",
    "    for srt in srt_array:\n",
    "        srt_as_array=return_srt_as_list_of_strings(srt)\n",
    "        total = len(srt_as_array)\n",
    "        step = max(1, total // num_chunks)\n",
    "        for lang in languages:\n",
    "            translated_srt=[]\n",
    "            for i in range(0,len(srt_as_array),step):\n",
    "                chuncks=srt_as_array[i:i+step]\n",
    "                chunks_to_translate=\"\\n\".join(chuncks) # pretvorimo tu listu od 100 elemenata u jedan tring \n",
    "                translated_chunck=await translate(chunks_to_translate,lang)\n",
    "                translated_srt.append(translated_chunck)\n",
    "            translated_srt_as_str= \"\\n\".join(translated_srt).encode('utf-8').decode('unicode_escape')\n",
    "            create_file(srt,translated_srt_as_str,lang)\n",
    "\n",
    "    \n",
    "\n",
    "    \n",
    "    \n",
    "    "
   ]
  },
  {
   "cell_type": "code",
   "execution_count": 2,
   "id": "5f81e3a0",
   "metadata": {},
   "outputs": [],
   "source": [
    "await transalte_chuncks()"
   ]
  },
  {
   "cell_type": "code",
   "execution_count": null,
   "id": "35b8d999",
   "metadata": {},
   "outputs": [],
   "source": []
  },
  {
   "cell_type": "code",
   "execution_count": null,
   "id": "56ddeb4c",
   "metadata": {},
   "outputs": [
    {
     "name": "stdout",
     "output_type": "stream",
     "text": [
      "None\n"
     ]
    }
   ],
   "source": []
  },
  {
   "cell_type": "code",
   "execution_count": null,
   "id": "796b6be1",
   "metadata": {},
   "outputs": [],
   "source": []
  }
 ],
 "metadata": {
  "kernelspec": {
   "display_name": "env",
   "language": "python",
   "name": "python3"
  },
  "language_info": {
   "codemirror_mode": {
    "name": "ipython",
    "version": 3
   },
   "file_extension": ".py",
   "mimetype": "text/x-python",
   "name": "python",
   "nbconvert_exporter": "python",
   "pygments_lexer": "ipython3",
   "version": "3.13.2"
  }
 },
 "nbformat": 4,
 "nbformat_minor": 5
}
